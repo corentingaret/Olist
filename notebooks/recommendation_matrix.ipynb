{
 "cells": [
  {
   "cell_type": "markdown",
   "id": "neural-bradley",
   "metadata": {},
   "source": [
    "# Imports"
   ]
  },
  {
   "cell_type": "code",
   "execution_count": 1,
   "id": "opposite-section",
   "metadata": {},
   "outputs": [],
   "source": [
    "import numpy as np\n",
    "import pandas as pd"
   ]
  },
  {
   "cell_type": "code",
   "execution_count": 2,
   "id": "compound-clerk",
   "metadata": {},
   "outputs": [],
   "source": [
    "from Olist.data import Olist"
   ]
  },
  {
   "cell_type": "code",
   "execution_count": 3,
   "id": "historical-timeline",
   "metadata": {},
   "outputs": [],
   "source": [
    "data = Olist().get_data()"
   ]
  },
  {
   "cell_type": "code",
   "execution_count": 4,
   "id": "herbal-consensus",
   "metadata": {},
   "outputs": [
    {
     "data": {
      "text/plain": [
       "dict_keys(['sellers', 'order_reviews', 'order_items', 'customers', 'orders', 'order_payments', 'product_category_name_translation', 'products', 'geolocation'])"
      ]
     },
     "execution_count": 4,
     "metadata": {},
     "output_type": "execute_result"
    }
   ],
   "source": [
    "data.keys()"
   ]
  },
  {
   "cell_type": "code",
   "execution_count": 5,
   "id": "patient-edition",
   "metadata": {},
   "outputs": [],
   "source": [
    "customers = data['customers']"
   ]
  },
  {
   "cell_type": "code",
   "execution_count": 6,
   "id": "seven-killer",
   "metadata": {},
   "outputs": [],
   "source": [
    "products = data['products']"
   ]
  },
  {
   "cell_type": "code",
   "execution_count": 7,
   "id": "public-snake",
   "metadata": {},
   "outputs": [],
   "source": [
    "from Olist.order import Order"
   ]
  },
  {
   "cell_type": "code",
   "execution_count": 8,
   "id": "prescription-moscow",
   "metadata": {},
   "outputs": [],
   "source": [
    "orders = Order().get_training_data()"
   ]
  },
  {
   "cell_type": "code",
   "execution_count": 9,
   "id": "later-registrar",
   "metadata": {},
   "outputs": [],
   "source": [
    "order_items = data['order_items']"
   ]
  },
  {
   "cell_type": "code",
   "execution_count": 10,
   "id": "roman-scroll",
   "metadata": {},
   "outputs": [],
   "source": [
    "matching = Olist().get_matching_table()"
   ]
  },
  {
   "cell_type": "code",
   "execution_count": 11,
   "id": "seeing-token",
   "metadata": {},
   "outputs": [],
   "source": [
    "reviews = data['order_reviews']"
   ]
  },
  {
   "cell_type": "code",
   "execution_count": 12,
   "id": "stopped-salon",
   "metadata": {},
   "outputs": [
    {
     "data": {
      "text/plain": [
       "((97007, 12), (112650, 7))"
      ]
     },
     "execution_count": 12,
     "metadata": {},
     "output_type": "execute_result"
    }
   ],
   "source": [
    "orders.shape, order_items.shape"
   ]
  },
  {
   "cell_type": "code",
   "execution_count": 13,
   "id": "modern-allah",
   "metadata": {},
   "outputs": [],
   "source": [
    "orders_raw = data['orders']"
   ]
  },
  {
   "cell_type": "code",
   "execution_count": null,
   "id": "architectural-agent",
   "metadata": {},
   "outputs": [],
   "source": []
  },
  {
   "cell_type": "markdown",
   "id": "included-insider",
   "metadata": {},
   "source": [
    "# Ensure that review score is strongly linked to the product quality"
   ]
  },
  {
   "cell_type": "code",
   "execution_count": null,
   "id": "coastal-omaha",
   "metadata": {},
   "outputs": [],
   "source": []
  },
  {
   "cell_type": "code",
   "execution_count": null,
   "id": "large-mentor",
   "metadata": {},
   "outputs": [],
   "source": []
  },
  {
   "cell_type": "code",
   "execution_count": null,
   "id": "revised-table",
   "metadata": {},
   "outputs": [],
   "source": []
  },
  {
   "cell_type": "markdown",
   "id": "aware-skill",
   "metadata": {},
   "source": [
    "# Memory-based collaborative filtering"
   ]
  },
  {
   "cell_type": "code",
   "execution_count": 14,
   "id": "serious-flush",
   "metadata": {},
   "outputs": [],
   "source": [
    "df = order_items.merge(orders, on=\"order_id\", how=\"outer\").merge(products, on=\"product_id\", how='inner').merge(orders_raw[['order_id', 'customer_id']], on='order_id', how='inner')"
   ]
  },
  {
   "cell_type": "code",
   "execution_count": 15,
   "id": "organized-flashing",
   "metadata": {},
   "outputs": [
    {
     "data": {
      "text/plain": [
       "Index(['order_id', 'order_item_id', 'product_id', 'seller_id',\n",
       "       'shipping_limit_date', 'price_x', 'freight_value_x', 'wait_time',\n",
       "       'expected_wait_time', 'delay_vs_expected', 'order_status',\n",
       "       'dim_is_five_star', 'dim_is_one_star', 'review_score',\n",
       "       'number_of_products', 'number_of_sellers', 'price_y', 'freight_value_y',\n",
       "       'product_category_name', 'product_name_lenght',\n",
       "       'product_description_lenght', 'product_photos_qty', 'product_weight_g',\n",
       "       'product_length_cm', 'product_height_cm', 'product_width_cm',\n",
       "       'customer_id'],\n",
       "      dtype='object')"
      ]
     },
     "execution_count": 15,
     "metadata": {},
     "output_type": "execute_result"
    }
   ],
   "source": [
    "df.columns"
   ]
  },
  {
   "cell_type": "code",
   "execution_count": 16,
   "id": "changing-italy",
   "metadata": {},
   "outputs": [],
   "source": [
    "sample = df.sample(n=50000)"
   ]
  },
  {
   "cell_type": "code",
   "execution_count": 17,
   "id": "current-discipline",
   "metadata": {},
   "outputs": [
    {
     "ename": "MemoryError",
     "evalue": "Unable to allocate 6.78 GiB for an array with shape (45514, 20003) and data type float64",
     "output_type": "error",
     "traceback": [
      "\u001b[0;31m---------------------------------------------------------------------------\u001b[0m",
      "\u001b[0;31mMemoryError\u001b[0m                               Traceback (most recent call last)",
      "\u001b[0;32m<ipython-input-17-e4a18bb13587>\u001b[0m in \u001b[0;36m<module>\u001b[0;34m\u001b[0m\n\u001b[0;32m----> 1\u001b[0;31m \u001b[0mmatrix\u001b[0m \u001b[0;34m=\u001b[0m \u001b[0mpd\u001b[0m\u001b[0;34m.\u001b[0m\u001b[0mpivot_table\u001b[0m\u001b[0;34m(\u001b[0m\u001b[0msample\u001b[0m\u001b[0;34m,\u001b[0m \u001b[0mvalues\u001b[0m\u001b[0;34m=\u001b[0m\u001b[0;34m'review_score'\u001b[0m\u001b[0;34m,\u001b[0m \u001b[0mindex\u001b[0m\u001b[0;34m=\u001b[0m\u001b[0;34m[\u001b[0m\u001b[0;34m'customer_id'\u001b[0m\u001b[0;34m]\u001b[0m\u001b[0;34m,\u001b[0m \u001b[0mcolumns\u001b[0m\u001b[0;34m=\u001b[0m\u001b[0;34m[\u001b[0m\u001b[0;34m'product_id'\u001b[0m\u001b[0;34m]\u001b[0m\u001b[0;34m,\u001b[0m \u001b[0maggfunc\u001b[0m\u001b[0;34m=\u001b[0m\u001b[0mnp\u001b[0m\u001b[0;34m.\u001b[0m\u001b[0mmean\u001b[0m\u001b[0;34m)\u001b[0m\u001b[0;34m\u001b[0m\u001b[0;34m\u001b[0m\u001b[0m\n\u001b[0m",
      "\u001b[0;32m~/.pyenv/versions/3.8.6/envs/lewagon/lib/python3.8/site-packages/pandas/core/reshape/pivot.py\u001b[0m in \u001b[0;36mpivot_table\u001b[0;34m(data, values, index, columns, aggfunc, fill_value, margins, dropna, margins_name, observed)\u001b[0m\n\u001b[1;32m    144\u001b[0m             \u001b[0;32melse\u001b[0m\u001b[0;34m:\u001b[0m\u001b[0;34m\u001b[0m\u001b[0;34m\u001b[0m\u001b[0m\n\u001b[1;32m    145\u001b[0m                 \u001b[0mto_unstack\u001b[0m\u001b[0;34m.\u001b[0m\u001b[0mappend\u001b[0m\u001b[0;34m(\u001b[0m\u001b[0mname\u001b[0m\u001b[0;34m)\u001b[0m\u001b[0;34m\u001b[0m\u001b[0;34m\u001b[0m\u001b[0m\n\u001b[0;32m--> 146\u001b[0;31m         \u001b[0mtable\u001b[0m \u001b[0;34m=\u001b[0m \u001b[0magged\u001b[0m\u001b[0;34m.\u001b[0m\u001b[0munstack\u001b[0m\u001b[0;34m(\u001b[0m\u001b[0mto_unstack\u001b[0m\u001b[0;34m)\u001b[0m\u001b[0;34m\u001b[0m\u001b[0;34m\u001b[0m\u001b[0m\n\u001b[0m\u001b[1;32m    147\u001b[0m \u001b[0;34m\u001b[0m\u001b[0m\n\u001b[1;32m    148\u001b[0m     \u001b[0;32mif\u001b[0m \u001b[0;32mnot\u001b[0m \u001b[0mdropna\u001b[0m\u001b[0;34m:\u001b[0m\u001b[0;34m\u001b[0m\u001b[0;34m\u001b[0m\u001b[0m\n",
      "\u001b[0;32m~/.pyenv/versions/3.8.6/envs/lewagon/lib/python3.8/site-packages/pandas/core/frame.py\u001b[0m in \u001b[0;36munstack\u001b[0;34m(self, level, fill_value)\u001b[0m\n\u001b[1;32m   7347\u001b[0m         \u001b[0;32mfrom\u001b[0m \u001b[0mpandas\u001b[0m\u001b[0;34m.\u001b[0m\u001b[0mcore\u001b[0m\u001b[0;34m.\u001b[0m\u001b[0mreshape\u001b[0m\u001b[0;34m.\u001b[0m\u001b[0mreshape\u001b[0m \u001b[0;32mimport\u001b[0m \u001b[0munstack\u001b[0m\u001b[0;34m\u001b[0m\u001b[0;34m\u001b[0m\u001b[0m\n\u001b[1;32m   7348\u001b[0m \u001b[0;34m\u001b[0m\u001b[0m\n\u001b[0;32m-> 7349\u001b[0;31m         \u001b[0mresult\u001b[0m \u001b[0;34m=\u001b[0m \u001b[0munstack\u001b[0m\u001b[0;34m(\u001b[0m\u001b[0mself\u001b[0m\u001b[0;34m,\u001b[0m \u001b[0mlevel\u001b[0m\u001b[0;34m,\u001b[0m \u001b[0mfill_value\u001b[0m\u001b[0;34m)\u001b[0m\u001b[0;34m\u001b[0m\u001b[0;34m\u001b[0m\u001b[0m\n\u001b[0m\u001b[1;32m   7350\u001b[0m \u001b[0;34m\u001b[0m\u001b[0m\n\u001b[1;32m   7351\u001b[0m         \u001b[0;32mreturn\u001b[0m \u001b[0mresult\u001b[0m\u001b[0;34m.\u001b[0m\u001b[0m__finalize__\u001b[0m\u001b[0;34m(\u001b[0m\u001b[0mself\u001b[0m\u001b[0;34m,\u001b[0m \u001b[0mmethod\u001b[0m\u001b[0;34m=\u001b[0m\u001b[0;34m\"unstack\"\u001b[0m\u001b[0;34m)\u001b[0m\u001b[0;34m\u001b[0m\u001b[0;34m\u001b[0m\u001b[0m\n",
      "\u001b[0;32m~/.pyenv/versions/3.8.6/envs/lewagon/lib/python3.8/site-packages/pandas/core/reshape/reshape.py\u001b[0m in \u001b[0;36munstack\u001b[0;34m(obj, level, fill_value)\u001b[0m\n\u001b[1;32m    415\u001b[0m     \u001b[0;32mif\u001b[0m \u001b[0misinstance\u001b[0m\u001b[0;34m(\u001b[0m\u001b[0mobj\u001b[0m\u001b[0;34m,\u001b[0m \u001b[0mDataFrame\u001b[0m\u001b[0;34m)\u001b[0m\u001b[0;34m:\u001b[0m\u001b[0;34m\u001b[0m\u001b[0;34m\u001b[0m\u001b[0m\n\u001b[1;32m    416\u001b[0m         \u001b[0;32mif\u001b[0m \u001b[0misinstance\u001b[0m\u001b[0;34m(\u001b[0m\u001b[0mobj\u001b[0m\u001b[0;34m.\u001b[0m\u001b[0mindex\u001b[0m\u001b[0;34m,\u001b[0m \u001b[0mMultiIndex\u001b[0m\u001b[0;34m)\u001b[0m\u001b[0;34m:\u001b[0m\u001b[0;34m\u001b[0m\u001b[0;34m\u001b[0m\u001b[0m\n\u001b[0;32m--> 417\u001b[0;31m             \u001b[0;32mreturn\u001b[0m \u001b[0m_unstack_frame\u001b[0m\u001b[0;34m(\u001b[0m\u001b[0mobj\u001b[0m\u001b[0;34m,\u001b[0m \u001b[0mlevel\u001b[0m\u001b[0;34m,\u001b[0m \u001b[0mfill_value\u001b[0m\u001b[0;34m=\u001b[0m\u001b[0mfill_value\u001b[0m\u001b[0;34m)\u001b[0m\u001b[0;34m\u001b[0m\u001b[0;34m\u001b[0m\u001b[0m\n\u001b[0m\u001b[1;32m    418\u001b[0m         \u001b[0;32melse\u001b[0m\u001b[0;34m:\u001b[0m\u001b[0;34m\u001b[0m\u001b[0;34m\u001b[0m\u001b[0m\n\u001b[1;32m    419\u001b[0m             \u001b[0;32mreturn\u001b[0m \u001b[0mobj\u001b[0m\u001b[0;34m.\u001b[0m\u001b[0mT\u001b[0m\u001b[0;34m.\u001b[0m\u001b[0mstack\u001b[0m\u001b[0;34m(\u001b[0m\u001b[0mdropna\u001b[0m\u001b[0;34m=\u001b[0m\u001b[0;32mFalse\u001b[0m\u001b[0;34m)\u001b[0m\u001b[0;34m\u001b[0m\u001b[0;34m\u001b[0m\u001b[0m\n",
      "\u001b[0;32m~/.pyenv/versions/3.8.6/envs/lewagon/lib/python3.8/site-packages/pandas/core/reshape/reshape.py\u001b[0m in \u001b[0;36m_unstack_frame\u001b[0;34m(obj, level, fill_value)\u001b[0m\n\u001b[1;32m    442\u001b[0m         \u001b[0;32mreturn\u001b[0m \u001b[0mobj\u001b[0m\u001b[0;34m.\u001b[0m\u001b[0m_constructor\u001b[0m\u001b[0;34m(\u001b[0m\u001b[0mmgr\u001b[0m\u001b[0;34m)\u001b[0m\u001b[0;34m\u001b[0m\u001b[0;34m\u001b[0m\u001b[0m\n\u001b[1;32m    443\u001b[0m     \u001b[0;32melse\u001b[0m\u001b[0;34m:\u001b[0m\u001b[0;34m\u001b[0m\u001b[0;34m\u001b[0m\u001b[0m\n\u001b[0;32m--> 444\u001b[0;31m         return _Unstacker(\n\u001b[0m\u001b[1;32m    445\u001b[0m             \u001b[0mobj\u001b[0m\u001b[0;34m.\u001b[0m\u001b[0mindex\u001b[0m\u001b[0;34m,\u001b[0m \u001b[0mlevel\u001b[0m\u001b[0;34m=\u001b[0m\u001b[0mlevel\u001b[0m\u001b[0;34m,\u001b[0m \u001b[0mconstructor\u001b[0m\u001b[0;34m=\u001b[0m\u001b[0mobj\u001b[0m\u001b[0;34m.\u001b[0m\u001b[0m_constructor\u001b[0m\u001b[0;34m\u001b[0m\u001b[0;34m\u001b[0m\u001b[0m\n\u001b[1;32m    446\u001b[0m         ).get_result(obj._values, value_columns=obj.columns, fill_value=fill_value)\n",
      "\u001b[0;32m~/.pyenv/versions/3.8.6/envs/lewagon/lib/python3.8/site-packages/pandas/core/reshape/reshape.py\u001b[0m in \u001b[0;36mget_result\u001b[0;34m(self, values, value_columns, fill_value)\u001b[0m\n\u001b[1;32m    180\u001b[0m             \u001b[0;32mraise\u001b[0m \u001b[0mValueError\u001b[0m\u001b[0;34m(\u001b[0m\u001b[0;34m\"must pass column labels for multi-column data\"\u001b[0m\u001b[0;34m)\u001b[0m\u001b[0;34m\u001b[0m\u001b[0;34m\u001b[0m\u001b[0m\n\u001b[1;32m    181\u001b[0m \u001b[0;34m\u001b[0m\u001b[0m\n\u001b[0;32m--> 182\u001b[0;31m         \u001b[0mvalues\u001b[0m\u001b[0;34m,\u001b[0m \u001b[0m_\u001b[0m \u001b[0;34m=\u001b[0m \u001b[0mself\u001b[0m\u001b[0;34m.\u001b[0m\u001b[0mget_new_values\u001b[0m\u001b[0;34m(\u001b[0m\u001b[0mvalues\u001b[0m\u001b[0;34m,\u001b[0m \u001b[0mfill_value\u001b[0m\u001b[0;34m)\u001b[0m\u001b[0;34m\u001b[0m\u001b[0;34m\u001b[0m\u001b[0m\n\u001b[0m\u001b[1;32m    183\u001b[0m         \u001b[0mcolumns\u001b[0m \u001b[0;34m=\u001b[0m \u001b[0mself\u001b[0m\u001b[0;34m.\u001b[0m\u001b[0mget_new_columns\u001b[0m\u001b[0;34m(\u001b[0m\u001b[0mvalue_columns\u001b[0m\u001b[0;34m)\u001b[0m\u001b[0;34m\u001b[0m\u001b[0;34m\u001b[0m\u001b[0m\n\u001b[1;32m    184\u001b[0m         \u001b[0mindex\u001b[0m \u001b[0;34m=\u001b[0m \u001b[0mself\u001b[0m\u001b[0;34m.\u001b[0m\u001b[0mnew_index\u001b[0m\u001b[0;34m\u001b[0m\u001b[0;34m\u001b[0m\u001b[0m\n",
      "\u001b[0;32m~/.pyenv/versions/3.8.6/envs/lewagon/lib/python3.8/site-packages/pandas/core/reshape/reshape.py\u001b[0m in \u001b[0;36mget_new_values\u001b[0;34m(self, values, fill_value)\u001b[0m\n\u001b[1;32m    220\u001b[0m         \u001b[0;32melse\u001b[0m\u001b[0;34m:\u001b[0m\u001b[0;34m\u001b[0m\u001b[0;34m\u001b[0m\u001b[0m\n\u001b[1;32m    221\u001b[0m             \u001b[0mdtype\u001b[0m\u001b[0;34m,\u001b[0m \u001b[0mfill_value\u001b[0m \u001b[0;34m=\u001b[0m \u001b[0mmaybe_promote\u001b[0m\u001b[0;34m(\u001b[0m\u001b[0mvalues\u001b[0m\u001b[0;34m.\u001b[0m\u001b[0mdtype\u001b[0m\u001b[0;34m,\u001b[0m \u001b[0mfill_value\u001b[0m\u001b[0;34m)\u001b[0m\u001b[0;34m\u001b[0m\u001b[0;34m\u001b[0m\u001b[0m\n\u001b[0;32m--> 222\u001b[0;31m             \u001b[0mnew_values\u001b[0m \u001b[0;34m=\u001b[0m \u001b[0mnp\u001b[0m\u001b[0;34m.\u001b[0m\u001b[0mempty\u001b[0m\u001b[0;34m(\u001b[0m\u001b[0mresult_shape\u001b[0m\u001b[0;34m,\u001b[0m \u001b[0mdtype\u001b[0m\u001b[0;34m=\u001b[0m\u001b[0mdtype\u001b[0m\u001b[0;34m)\u001b[0m\u001b[0;34m\u001b[0m\u001b[0;34m\u001b[0m\u001b[0m\n\u001b[0m\u001b[1;32m    223\u001b[0m             \u001b[0mnew_values\u001b[0m\u001b[0;34m.\u001b[0m\u001b[0mfill\u001b[0m\u001b[0;34m(\u001b[0m\u001b[0mfill_value\u001b[0m\u001b[0;34m)\u001b[0m\u001b[0;34m\u001b[0m\u001b[0;34m\u001b[0m\u001b[0m\n\u001b[1;32m    224\u001b[0m \u001b[0;34m\u001b[0m\u001b[0m\n",
      "\u001b[0;31mMemoryError\u001b[0m: Unable to allocate 6.78 GiB for an array with shape (45514, 20003) and data type float64"
     ]
    }
   ],
   "source": [
    "matrix = pd.pivot_table(sample, values='review_score', index=['customer_id'], columns=['product_id'], aggfunc=np.mean)"
   ]
  },
  {
   "cell_type": "code",
   "execution_count": 18,
   "id": "oriented-applicant",
   "metadata": {},
   "outputs": [
    {
     "data": {
      "text/plain": [
       "32951"
      ]
     },
     "execution_count": 18,
     "metadata": {},
     "output_type": "execute_result"
    }
   ],
   "source": [
    "len(df['product_id'].unique())"
   ]
  },
  {
   "cell_type": "code",
   "execution_count": 19,
   "id": "scientific-plane",
   "metadata": {},
   "outputs": [],
   "source": [
    "df = df[~df.product_category_name.isna()]"
   ]
  },
  {
   "cell_type": "code",
   "execution_count": 20,
   "id": "instant-canyon",
   "metadata": {},
   "outputs": [],
   "source": [
    "product_categories = list(df.product_category_name.unique())"
   ]
  },
  {
   "cell_type": "code",
   "execution_count": 21,
   "id": "alone-response",
   "metadata": {
    "collapsed": true
   },
   "outputs": [
    {
     "data": {
      "text/plain": [
       "['cool_stuff',\n",
       " 'pet_shop',\n",
       " 'moveis_decoracao',\n",
       " 'perfumaria',\n",
       " 'ferramentas_jardim',\n",
       " 'utilidades_domesticas',\n",
       " 'telefonia',\n",
       " 'beleza_saude',\n",
       " 'livros_tecnicos',\n",
       " 'bebes',\n",
       " 'fashion_bolsas_e_acessorios',\n",
       " 'cama_mesa_banho',\n",
       " 'casa_conforto',\n",
       " 'alimentos',\n",
       " 'relogios_presentes',\n",
       " 'casa_construcao',\n",
       " 'esporte_lazer',\n",
       " 'consoles_games',\n",
       " 'pc_gamer',\n",
       " 'moveis_escritorio',\n",
       " 'malas_acessorios',\n",
       " 'agro_industria_e_comercio',\n",
       " 'papelaria',\n",
       " 'eletronicos',\n",
       " 'informatica_acessorios',\n",
       " 'construcao_ferramentas_construcao',\n",
       " 'moveis_sala',\n",
       " 'audio',\n",
       " 'construcao_ferramentas_iluminacao',\n",
       " 'brinquedos',\n",
       " 'moveis_quarto',\n",
       " 'industria_comercio_e_negocios',\n",
       " 'automotivo',\n",
       " 'moveis_cozinha_area_de_servico_jantar_e_jardim',\n",
       " 'climatizacao',\n",
       " 'eletrodomesticos',\n",
       " 'telefonia_fixa',\n",
       " 'portateis_casa_forno_e_cafe',\n",
       " 'artes',\n",
       " 'fraldas_higiene',\n",
       " 'sinalizacao_e_seguranca',\n",
       " 'instrumentos_musicais',\n",
       " 'eletroportateis',\n",
       " 'construcao_ferramentas_jardim',\n",
       " 'livros_interesse_geral',\n",
       " 'artigos_de_festas',\n",
       " 'construcao_ferramentas_seguranca',\n",
       " 'cine_foto',\n",
       " 'fashion_underwear_e_moda_praia',\n",
       " 'fashion_roupa_masculina',\n",
       " 'alimentos_bebidas',\n",
       " 'bebidas',\n",
       " 'market_place',\n",
       " 'musica',\n",
       " 'eletrodomesticos_2',\n",
       " 'fashion_calcados',\n",
       " 'flores',\n",
       " 'fashion_esporte',\n",
       " 'fashion_roupa_feminina',\n",
       " 'pcs',\n",
       " 'livros_importados',\n",
       " 'artigos_de_natal',\n",
       " 'casa_conforto_2',\n",
       " 'dvds_blu_ray',\n",
       " 'portateis_cozinha_e_preparadores_de_alimentos',\n",
       " 'cds_dvds_musicais',\n",
       " 'artes_e_artesanato',\n",
       " 'moveis_colchao_e_estofado',\n",
       " 'tablets_impressao_imagem',\n",
       " 'construcao_ferramentas_ferramentas',\n",
       " 'la_cuisine',\n",
       " 'fashion_roupa_infanto_juvenil',\n",
       " 'seguros_e_servicos']"
      ]
     },
     "execution_count": 21,
     "metadata": {},
     "output_type": "execute_result"
    }
   ],
   "source": [
    "product_categories"
   ]
  },
  {
   "cell_type": "code",
   "execution_count": 22,
   "id": "electoral-intent",
   "metadata": {},
   "outputs": [],
   "source": [
    "fashion_cat = [i for i in product_categories if 'fashion' in i]"
   ]
  },
  {
   "cell_type": "code",
   "execution_count": 23,
   "id": "choice-musician",
   "metadata": {},
   "outputs": [
    {
     "data": {
      "text/plain": [
       "['fashion_bolsas_e_acessorios',\n",
       " 'fashion_underwear_e_moda_praia',\n",
       " 'fashion_roupa_masculina',\n",
       " 'fashion_calcados',\n",
       " 'fashion_esporte',\n",
       " 'fashion_roupa_feminina',\n",
       " 'fashion_roupa_infanto_juvenil']"
      ]
     },
     "execution_count": 23,
     "metadata": {},
     "output_type": "execute_result"
    }
   ],
   "source": [
    "fashion_cat"
   ]
  },
  {
   "cell_type": "code",
   "execution_count": 26,
   "id": "reflected-accounting",
   "metadata": {},
   "outputs": [],
   "source": [
    "df_fashion = df[df.product_category_name.isin(fashion_cat)]"
   ]
  },
  {
   "cell_type": "code",
   "execution_count": 27,
   "id": "positive-jenny",
   "metadata": {},
   "outputs": [
    {
     "data": {
      "text/plain": [
       "(2666, 27)"
      ]
     },
     "execution_count": 27,
     "metadata": {},
     "output_type": "execute_result"
    }
   ],
   "source": [
    "df_fashion.shape"
   ]
  },
  {
   "cell_type": "code",
   "execution_count": 30,
   "id": "according-dream",
   "metadata": {},
   "outputs": [],
   "source": [
    "fashion_matrix = pd.pivot_table(df_fashion, values='review_score', index=['customer_id'], columns=['product_id'], aggfunc=np.mean)"
   ]
  },
  {
   "cell_type": "code",
   "execution_count": 31,
   "id": "collectible-bennett",
   "metadata": {},
   "outputs": [
    {
     "data": {
      "text/html": [
       "<div>\n",
       "<style scoped>\n",
       "    .dataframe tbody tr th:only-of-type {\n",
       "        vertical-align: middle;\n",
       "    }\n",
       "\n",
       "    .dataframe tbody tr th {\n",
       "        vertical-align: top;\n",
       "    }\n",
       "\n",
       "    .dataframe thead th {\n",
       "        text-align: right;\n",
       "    }\n",
       "</style>\n",
       "<table border=\"1\" class=\"dataframe\">\n",
       "  <thead>\n",
       "    <tr style=\"text-align: right;\">\n",
       "      <th>product_id</th>\n",
       "      <th>002159fe700ed3521f46cfcf6e941c76</th>\n",
       "      <th>005c6b24cc96dca3e2c01e824401030e</th>\n",
       "      <th>0067f97995b0c3a86739734dc87ee6b6</th>\n",
       "      <th>00faa46f36261af8bbf3a4d37fa4841b</th>\n",
       "      <th>0142fd5bd2e0923cf2dbc73d471dda34</th>\n",
       "      <th>015f06d7b83e5a6f7d1765fb5d8bdfa6</th>\n",
       "      <th>0192191cc1bc83262d6667c54c2e048f</th>\n",
       "      <th>01f76c07f91a533acd46cc6ab989be23</th>\n",
       "      <th>0257013d9462b3b6e9892bdd10ebe14d</th>\n",
       "      <th>027e1564c58eb02f39089b2b1f28d5e0</th>\n",
       "      <th>...</th>\n",
       "      <th>fde4e97b75bd817d8c4aef8de39ed4d9</th>\n",
       "      <th>fe2f0ff75805728378c6a8fdc5be7724</th>\n",
       "      <th>fe6614ba400caca2d8d310902d5ecdd5</th>\n",
       "      <th>fe7e33eaa09b5a4a3d3aa477280db875</th>\n",
       "      <th>ff185e3474ddf11f1c87316de80f24b7</th>\n",
       "      <th>ff8bd09f659b88af06fdfea61a8b7b45</th>\n",
       "      <th>ff9032482857269e8683f0c2f8ba4709</th>\n",
       "      <th>ffd259a48b9b073c942884d0f3659566</th>\n",
       "      <th>ffd4bf4306745865e5692f69bd237893</th>\n",
       "      <th>fff9553ac224cec9d15d49f5a263411f</th>\n",
       "    </tr>\n",
       "    <tr>\n",
       "      <th>customer_id</th>\n",
       "      <th></th>\n",
       "      <th></th>\n",
       "      <th></th>\n",
       "      <th></th>\n",
       "      <th></th>\n",
       "      <th></th>\n",
       "      <th></th>\n",
       "      <th></th>\n",
       "      <th></th>\n",
       "      <th></th>\n",
       "      <th></th>\n",
       "      <th></th>\n",
       "      <th></th>\n",
       "      <th></th>\n",
       "      <th></th>\n",
       "      <th></th>\n",
       "      <th></th>\n",
       "      <th></th>\n",
       "      <th></th>\n",
       "      <th></th>\n",
       "      <th></th>\n",
       "    </tr>\n",
       "  </thead>\n",
       "  <tbody>\n",
       "    <tr>\n",
       "      <th>000419c5494106c306a97b5635748086</th>\n",
       "      <td>NaN</td>\n",
       "      <td>NaN</td>\n",
       "      <td>NaN</td>\n",
       "      <td>NaN</td>\n",
       "      <td>NaN</td>\n",
       "      <td>NaN</td>\n",
       "      <td>NaN</td>\n",
       "      <td>NaN</td>\n",
       "      <td>NaN</td>\n",
       "      <td>NaN</td>\n",
       "      <td>...</td>\n",
       "      <td>NaN</td>\n",
       "      <td>NaN</td>\n",
       "      <td>NaN</td>\n",
       "      <td>NaN</td>\n",
       "      <td>NaN</td>\n",
       "      <td>NaN</td>\n",
       "      <td>NaN</td>\n",
       "      <td>NaN</td>\n",
       "      <td>NaN</td>\n",
       "      <td>NaN</td>\n",
       "    </tr>\n",
       "    <tr>\n",
       "      <th>00050bf6e01e69d5c0fd612f1bcfb69c</th>\n",
       "      <td>NaN</td>\n",
       "      <td>NaN</td>\n",
       "      <td>NaN</td>\n",
       "      <td>NaN</td>\n",
       "      <td>NaN</td>\n",
       "      <td>NaN</td>\n",
       "      <td>NaN</td>\n",
       "      <td>NaN</td>\n",
       "      <td>NaN</td>\n",
       "      <td>NaN</td>\n",
       "      <td>...</td>\n",
       "      <td>NaN</td>\n",
       "      <td>NaN</td>\n",
       "      <td>NaN</td>\n",
       "      <td>NaN</td>\n",
       "      <td>NaN</td>\n",
       "      <td>NaN</td>\n",
       "      <td>NaN</td>\n",
       "      <td>NaN</td>\n",
       "      <td>NaN</td>\n",
       "      <td>NaN</td>\n",
       "    </tr>\n",
       "    <tr>\n",
       "      <th>0036875772a8eeb391b8cd7226283fdd</th>\n",
       "      <td>NaN</td>\n",
       "      <td>NaN</td>\n",
       "      <td>NaN</td>\n",
       "      <td>NaN</td>\n",
       "      <td>NaN</td>\n",
       "      <td>NaN</td>\n",
       "      <td>NaN</td>\n",
       "      <td>NaN</td>\n",
       "      <td>NaN</td>\n",
       "      <td>NaN</td>\n",
       "      <td>...</td>\n",
       "      <td>NaN</td>\n",
       "      <td>NaN</td>\n",
       "      <td>NaN</td>\n",
       "      <td>NaN</td>\n",
       "      <td>NaN</td>\n",
       "      <td>NaN</td>\n",
       "      <td>NaN</td>\n",
       "      <td>NaN</td>\n",
       "      <td>NaN</td>\n",
       "      <td>NaN</td>\n",
       "    </tr>\n",
       "    <tr>\n",
       "      <th>005092c23e81812fbbe11fc6cf7e5316</th>\n",
       "      <td>NaN</td>\n",
       "      <td>NaN</td>\n",
       "      <td>NaN</td>\n",
       "      <td>NaN</td>\n",
       "      <td>NaN</td>\n",
       "      <td>NaN</td>\n",
       "      <td>NaN</td>\n",
       "      <td>NaN</td>\n",
       "      <td>NaN</td>\n",
       "      <td>NaN</td>\n",
       "      <td>...</td>\n",
       "      <td>NaN</td>\n",
       "      <td>NaN</td>\n",
       "      <td>NaN</td>\n",
       "      <td>NaN</td>\n",
       "      <td>NaN</td>\n",
       "      <td>NaN</td>\n",
       "      <td>NaN</td>\n",
       "      <td>NaN</td>\n",
       "      <td>NaN</td>\n",
       "      <td>NaN</td>\n",
       "    </tr>\n",
       "    <tr>\n",
       "      <th>00b196cc59531c4dbba23e94fff01d6c</th>\n",
       "      <td>NaN</td>\n",
       "      <td>NaN</td>\n",
       "      <td>NaN</td>\n",
       "      <td>NaN</td>\n",
       "      <td>NaN</td>\n",
       "      <td>NaN</td>\n",
       "      <td>NaN</td>\n",
       "      <td>NaN</td>\n",
       "      <td>NaN</td>\n",
       "      <td>NaN</td>\n",
       "      <td>...</td>\n",
       "      <td>NaN</td>\n",
       "      <td>NaN</td>\n",
       "      <td>NaN</td>\n",
       "      <td>NaN</td>\n",
       "      <td>NaN</td>\n",
       "      <td>NaN</td>\n",
       "      <td>NaN</td>\n",
       "      <td>NaN</td>\n",
       "      <td>NaN</td>\n",
       "      <td>NaN</td>\n",
       "    </tr>\n",
       "    <tr>\n",
       "      <th>...</th>\n",
       "      <td>...</td>\n",
       "      <td>...</td>\n",
       "      <td>...</td>\n",
       "      <td>...</td>\n",
       "      <td>...</td>\n",
       "      <td>...</td>\n",
       "      <td>...</td>\n",
       "      <td>...</td>\n",
       "      <td>...</td>\n",
       "      <td>...</td>\n",
       "      <td>...</td>\n",
       "      <td>...</td>\n",
       "      <td>...</td>\n",
       "      <td>...</td>\n",
       "      <td>...</td>\n",
       "      <td>...</td>\n",
       "      <td>...</td>\n",
       "      <td>...</td>\n",
       "      <td>...</td>\n",
       "      <td>...</td>\n",
       "      <td>...</td>\n",
       "    </tr>\n",
       "    <tr>\n",
       "      <th>ff0feea3121816d8a9918cd346d2ab7d</th>\n",
       "      <td>NaN</td>\n",
       "      <td>NaN</td>\n",
       "      <td>NaN</td>\n",
       "      <td>NaN</td>\n",
       "      <td>NaN</td>\n",
       "      <td>NaN</td>\n",
       "      <td>NaN</td>\n",
       "      <td>NaN</td>\n",
       "      <td>NaN</td>\n",
       "      <td>NaN</td>\n",
       "      <td>...</td>\n",
       "      <td>NaN</td>\n",
       "      <td>NaN</td>\n",
       "      <td>NaN</td>\n",
       "      <td>NaN</td>\n",
       "      <td>NaN</td>\n",
       "      <td>NaN</td>\n",
       "      <td>NaN</td>\n",
       "      <td>NaN</td>\n",
       "      <td>NaN</td>\n",
       "      <td>NaN</td>\n",
       "    </tr>\n",
       "    <tr>\n",
       "      <th>ffb17239ca39724cfadc2b50d510f10d</th>\n",
       "      <td>NaN</td>\n",
       "      <td>NaN</td>\n",
       "      <td>NaN</td>\n",
       "      <td>NaN</td>\n",
       "      <td>NaN</td>\n",
       "      <td>NaN</td>\n",
       "      <td>NaN</td>\n",
       "      <td>NaN</td>\n",
       "      <td>NaN</td>\n",
       "      <td>NaN</td>\n",
       "      <td>...</td>\n",
       "      <td>NaN</td>\n",
       "      <td>NaN</td>\n",
       "      <td>NaN</td>\n",
       "      <td>NaN</td>\n",
       "      <td>NaN</td>\n",
       "      <td>NaN</td>\n",
       "      <td>NaN</td>\n",
       "      <td>NaN</td>\n",
       "      <td>NaN</td>\n",
       "      <td>NaN</td>\n",
       "    </tr>\n",
       "    <tr>\n",
       "      <th>ffbc1b5517c488c7959e231ff9a0a787</th>\n",
       "      <td>NaN</td>\n",
       "      <td>NaN</td>\n",
       "      <td>NaN</td>\n",
       "      <td>NaN</td>\n",
       "      <td>NaN</td>\n",
       "      <td>NaN</td>\n",
       "      <td>NaN</td>\n",
       "      <td>NaN</td>\n",
       "      <td>NaN</td>\n",
       "      <td>NaN</td>\n",
       "      <td>...</td>\n",
       "      <td>NaN</td>\n",
       "      <td>NaN</td>\n",
       "      <td>NaN</td>\n",
       "      <td>NaN</td>\n",
       "      <td>NaN</td>\n",
       "      <td>NaN</td>\n",
       "      <td>NaN</td>\n",
       "      <td>NaN</td>\n",
       "      <td>NaN</td>\n",
       "      <td>NaN</td>\n",
       "    </tr>\n",
       "    <tr>\n",
       "      <th>ffe51ba924ffabbb6e1ec2c92e582851</th>\n",
       "      <td>NaN</td>\n",
       "      <td>NaN</td>\n",
       "      <td>NaN</td>\n",
       "      <td>NaN</td>\n",
       "      <td>NaN</td>\n",
       "      <td>NaN</td>\n",
       "      <td>NaN</td>\n",
       "      <td>NaN</td>\n",
       "      <td>NaN</td>\n",
       "      <td>NaN</td>\n",
       "      <td>...</td>\n",
       "      <td>NaN</td>\n",
       "      <td>NaN</td>\n",
       "      <td>NaN</td>\n",
       "      <td>NaN</td>\n",
       "      <td>NaN</td>\n",
       "      <td>NaN</td>\n",
       "      <td>NaN</td>\n",
       "      <td>NaN</td>\n",
       "      <td>NaN</td>\n",
       "      <td>NaN</td>\n",
       "    </tr>\n",
       "    <tr>\n",
       "      <th>fff675a0d5924b9162b4a1bf410466cd</th>\n",
       "      <td>NaN</td>\n",
       "      <td>NaN</td>\n",
       "      <td>NaN</td>\n",
       "      <td>NaN</td>\n",
       "      <td>NaN</td>\n",
       "      <td>NaN</td>\n",
       "      <td>NaN</td>\n",
       "      <td>NaN</td>\n",
       "      <td>NaN</td>\n",
       "      <td>NaN</td>\n",
       "      <td>...</td>\n",
       "      <td>NaN</td>\n",
       "      <td>NaN</td>\n",
       "      <td>NaN</td>\n",
       "      <td>NaN</td>\n",
       "      <td>NaN</td>\n",
       "      <td>NaN</td>\n",
       "      <td>NaN</td>\n",
       "      <td>NaN</td>\n",
       "      <td>NaN</td>\n",
       "      <td>NaN</td>\n",
       "    </tr>\n",
       "  </tbody>\n",
       "</table>\n",
       "<p>2343 rows × 1189 columns</p>\n",
       "</div>"
      ],
      "text/plain": [
       "product_id                        002159fe700ed3521f46cfcf6e941c76  \\\n",
       "customer_id                                                          \n",
       "000419c5494106c306a97b5635748086                               NaN   \n",
       "00050bf6e01e69d5c0fd612f1bcfb69c                               NaN   \n",
       "0036875772a8eeb391b8cd7226283fdd                               NaN   \n",
       "005092c23e81812fbbe11fc6cf7e5316                               NaN   \n",
       "00b196cc59531c4dbba23e94fff01d6c                               NaN   \n",
       "...                                                            ...   \n",
       "ff0feea3121816d8a9918cd346d2ab7d                               NaN   \n",
       "ffb17239ca39724cfadc2b50d510f10d                               NaN   \n",
       "ffbc1b5517c488c7959e231ff9a0a787                               NaN   \n",
       "ffe51ba924ffabbb6e1ec2c92e582851                               NaN   \n",
       "fff675a0d5924b9162b4a1bf410466cd                               NaN   \n",
       "\n",
       "product_id                        005c6b24cc96dca3e2c01e824401030e  \\\n",
       "customer_id                                                          \n",
       "000419c5494106c306a97b5635748086                               NaN   \n",
       "00050bf6e01e69d5c0fd612f1bcfb69c                               NaN   \n",
       "0036875772a8eeb391b8cd7226283fdd                               NaN   \n",
       "005092c23e81812fbbe11fc6cf7e5316                               NaN   \n",
       "00b196cc59531c4dbba23e94fff01d6c                               NaN   \n",
       "...                                                            ...   \n",
       "ff0feea3121816d8a9918cd346d2ab7d                               NaN   \n",
       "ffb17239ca39724cfadc2b50d510f10d                               NaN   \n",
       "ffbc1b5517c488c7959e231ff9a0a787                               NaN   \n",
       "ffe51ba924ffabbb6e1ec2c92e582851                               NaN   \n",
       "fff675a0d5924b9162b4a1bf410466cd                               NaN   \n",
       "\n",
       "product_id                        0067f97995b0c3a86739734dc87ee6b6  \\\n",
       "customer_id                                                          \n",
       "000419c5494106c306a97b5635748086                               NaN   \n",
       "00050bf6e01e69d5c0fd612f1bcfb69c                               NaN   \n",
       "0036875772a8eeb391b8cd7226283fdd                               NaN   \n",
       "005092c23e81812fbbe11fc6cf7e5316                               NaN   \n",
       "00b196cc59531c4dbba23e94fff01d6c                               NaN   \n",
       "...                                                            ...   \n",
       "ff0feea3121816d8a9918cd346d2ab7d                               NaN   \n",
       "ffb17239ca39724cfadc2b50d510f10d                               NaN   \n",
       "ffbc1b5517c488c7959e231ff9a0a787                               NaN   \n",
       "ffe51ba924ffabbb6e1ec2c92e582851                               NaN   \n",
       "fff675a0d5924b9162b4a1bf410466cd                               NaN   \n",
       "\n",
       "product_id                        00faa46f36261af8bbf3a4d37fa4841b  \\\n",
       "customer_id                                                          \n",
       "000419c5494106c306a97b5635748086                               NaN   \n",
       "00050bf6e01e69d5c0fd612f1bcfb69c                               NaN   \n",
       "0036875772a8eeb391b8cd7226283fdd                               NaN   \n",
       "005092c23e81812fbbe11fc6cf7e5316                               NaN   \n",
       "00b196cc59531c4dbba23e94fff01d6c                               NaN   \n",
       "...                                                            ...   \n",
       "ff0feea3121816d8a9918cd346d2ab7d                               NaN   \n",
       "ffb17239ca39724cfadc2b50d510f10d                               NaN   \n",
       "ffbc1b5517c488c7959e231ff9a0a787                               NaN   \n",
       "ffe51ba924ffabbb6e1ec2c92e582851                               NaN   \n",
       "fff675a0d5924b9162b4a1bf410466cd                               NaN   \n",
       "\n",
       "product_id                        0142fd5bd2e0923cf2dbc73d471dda34  \\\n",
       "customer_id                                                          \n",
       "000419c5494106c306a97b5635748086                               NaN   \n",
       "00050bf6e01e69d5c0fd612f1bcfb69c                               NaN   \n",
       "0036875772a8eeb391b8cd7226283fdd                               NaN   \n",
       "005092c23e81812fbbe11fc6cf7e5316                               NaN   \n",
       "00b196cc59531c4dbba23e94fff01d6c                               NaN   \n",
       "...                                                            ...   \n",
       "ff0feea3121816d8a9918cd346d2ab7d                               NaN   \n",
       "ffb17239ca39724cfadc2b50d510f10d                               NaN   \n",
       "ffbc1b5517c488c7959e231ff9a0a787                               NaN   \n",
       "ffe51ba924ffabbb6e1ec2c92e582851                               NaN   \n",
       "fff675a0d5924b9162b4a1bf410466cd                               NaN   \n",
       "\n",
       "product_id                        015f06d7b83e5a6f7d1765fb5d8bdfa6  \\\n",
       "customer_id                                                          \n",
       "000419c5494106c306a97b5635748086                               NaN   \n",
       "00050bf6e01e69d5c0fd612f1bcfb69c                               NaN   \n",
       "0036875772a8eeb391b8cd7226283fdd                               NaN   \n",
       "005092c23e81812fbbe11fc6cf7e5316                               NaN   \n",
       "00b196cc59531c4dbba23e94fff01d6c                               NaN   \n",
       "...                                                            ...   \n",
       "ff0feea3121816d8a9918cd346d2ab7d                               NaN   \n",
       "ffb17239ca39724cfadc2b50d510f10d                               NaN   \n",
       "ffbc1b5517c488c7959e231ff9a0a787                               NaN   \n",
       "ffe51ba924ffabbb6e1ec2c92e582851                               NaN   \n",
       "fff675a0d5924b9162b4a1bf410466cd                               NaN   \n",
       "\n",
       "product_id                        0192191cc1bc83262d6667c54c2e048f  \\\n",
       "customer_id                                                          \n",
       "000419c5494106c306a97b5635748086                               NaN   \n",
       "00050bf6e01e69d5c0fd612f1bcfb69c                               NaN   \n",
       "0036875772a8eeb391b8cd7226283fdd                               NaN   \n",
       "005092c23e81812fbbe11fc6cf7e5316                               NaN   \n",
       "00b196cc59531c4dbba23e94fff01d6c                               NaN   \n",
       "...                                                            ...   \n",
       "ff0feea3121816d8a9918cd346d2ab7d                               NaN   \n",
       "ffb17239ca39724cfadc2b50d510f10d                               NaN   \n",
       "ffbc1b5517c488c7959e231ff9a0a787                               NaN   \n",
       "ffe51ba924ffabbb6e1ec2c92e582851                               NaN   \n",
       "fff675a0d5924b9162b4a1bf410466cd                               NaN   \n",
       "\n",
       "product_id                        01f76c07f91a533acd46cc6ab989be23  \\\n",
       "customer_id                                                          \n",
       "000419c5494106c306a97b5635748086                               NaN   \n",
       "00050bf6e01e69d5c0fd612f1bcfb69c                               NaN   \n",
       "0036875772a8eeb391b8cd7226283fdd                               NaN   \n",
       "005092c23e81812fbbe11fc6cf7e5316                               NaN   \n",
       "00b196cc59531c4dbba23e94fff01d6c                               NaN   \n",
       "...                                                            ...   \n",
       "ff0feea3121816d8a9918cd346d2ab7d                               NaN   \n",
       "ffb17239ca39724cfadc2b50d510f10d                               NaN   \n",
       "ffbc1b5517c488c7959e231ff9a0a787                               NaN   \n",
       "ffe51ba924ffabbb6e1ec2c92e582851                               NaN   \n",
       "fff675a0d5924b9162b4a1bf410466cd                               NaN   \n",
       "\n",
       "product_id                        0257013d9462b3b6e9892bdd10ebe14d  \\\n",
       "customer_id                                                          \n",
       "000419c5494106c306a97b5635748086                               NaN   \n",
       "00050bf6e01e69d5c0fd612f1bcfb69c                               NaN   \n",
       "0036875772a8eeb391b8cd7226283fdd                               NaN   \n",
       "005092c23e81812fbbe11fc6cf7e5316                               NaN   \n",
       "00b196cc59531c4dbba23e94fff01d6c                               NaN   \n",
       "...                                                            ...   \n",
       "ff0feea3121816d8a9918cd346d2ab7d                               NaN   \n",
       "ffb17239ca39724cfadc2b50d510f10d                               NaN   \n",
       "ffbc1b5517c488c7959e231ff9a0a787                               NaN   \n",
       "ffe51ba924ffabbb6e1ec2c92e582851                               NaN   \n",
       "fff675a0d5924b9162b4a1bf410466cd                               NaN   \n",
       "\n",
       "product_id                        027e1564c58eb02f39089b2b1f28d5e0  ...  \\\n",
       "customer_id                                                         ...   \n",
       "000419c5494106c306a97b5635748086                               NaN  ...   \n",
       "00050bf6e01e69d5c0fd612f1bcfb69c                               NaN  ...   \n",
       "0036875772a8eeb391b8cd7226283fdd                               NaN  ...   \n",
       "005092c23e81812fbbe11fc6cf7e5316                               NaN  ...   \n",
       "00b196cc59531c4dbba23e94fff01d6c                               NaN  ...   \n",
       "...                                                            ...  ...   \n",
       "ff0feea3121816d8a9918cd346d2ab7d                               NaN  ...   \n",
       "ffb17239ca39724cfadc2b50d510f10d                               NaN  ...   \n",
       "ffbc1b5517c488c7959e231ff9a0a787                               NaN  ...   \n",
       "ffe51ba924ffabbb6e1ec2c92e582851                               NaN  ...   \n",
       "fff675a0d5924b9162b4a1bf410466cd                               NaN  ...   \n",
       "\n",
       "product_id                        fde4e97b75bd817d8c4aef8de39ed4d9  \\\n",
       "customer_id                                                          \n",
       "000419c5494106c306a97b5635748086                               NaN   \n",
       "00050bf6e01e69d5c0fd612f1bcfb69c                               NaN   \n",
       "0036875772a8eeb391b8cd7226283fdd                               NaN   \n",
       "005092c23e81812fbbe11fc6cf7e5316                               NaN   \n",
       "00b196cc59531c4dbba23e94fff01d6c                               NaN   \n",
       "...                                                            ...   \n",
       "ff0feea3121816d8a9918cd346d2ab7d                               NaN   \n",
       "ffb17239ca39724cfadc2b50d510f10d                               NaN   \n",
       "ffbc1b5517c488c7959e231ff9a0a787                               NaN   \n",
       "ffe51ba924ffabbb6e1ec2c92e582851                               NaN   \n",
       "fff675a0d5924b9162b4a1bf410466cd                               NaN   \n",
       "\n",
       "product_id                        fe2f0ff75805728378c6a8fdc5be7724  \\\n",
       "customer_id                                                          \n",
       "000419c5494106c306a97b5635748086                               NaN   \n",
       "00050bf6e01e69d5c0fd612f1bcfb69c                               NaN   \n",
       "0036875772a8eeb391b8cd7226283fdd                               NaN   \n",
       "005092c23e81812fbbe11fc6cf7e5316                               NaN   \n",
       "00b196cc59531c4dbba23e94fff01d6c                               NaN   \n",
       "...                                                            ...   \n",
       "ff0feea3121816d8a9918cd346d2ab7d                               NaN   \n",
       "ffb17239ca39724cfadc2b50d510f10d                               NaN   \n",
       "ffbc1b5517c488c7959e231ff9a0a787                               NaN   \n",
       "ffe51ba924ffabbb6e1ec2c92e582851                               NaN   \n",
       "fff675a0d5924b9162b4a1bf410466cd                               NaN   \n",
       "\n",
       "product_id                        fe6614ba400caca2d8d310902d5ecdd5  \\\n",
       "customer_id                                                          \n",
       "000419c5494106c306a97b5635748086                               NaN   \n",
       "00050bf6e01e69d5c0fd612f1bcfb69c                               NaN   \n",
       "0036875772a8eeb391b8cd7226283fdd                               NaN   \n",
       "005092c23e81812fbbe11fc6cf7e5316                               NaN   \n",
       "00b196cc59531c4dbba23e94fff01d6c                               NaN   \n",
       "...                                                            ...   \n",
       "ff0feea3121816d8a9918cd346d2ab7d                               NaN   \n",
       "ffb17239ca39724cfadc2b50d510f10d                               NaN   \n",
       "ffbc1b5517c488c7959e231ff9a0a787                               NaN   \n",
       "ffe51ba924ffabbb6e1ec2c92e582851                               NaN   \n",
       "fff675a0d5924b9162b4a1bf410466cd                               NaN   \n",
       "\n",
       "product_id                        fe7e33eaa09b5a4a3d3aa477280db875  \\\n",
       "customer_id                                                          \n",
       "000419c5494106c306a97b5635748086                               NaN   \n",
       "00050bf6e01e69d5c0fd612f1bcfb69c                               NaN   \n",
       "0036875772a8eeb391b8cd7226283fdd                               NaN   \n",
       "005092c23e81812fbbe11fc6cf7e5316                               NaN   \n",
       "00b196cc59531c4dbba23e94fff01d6c                               NaN   \n",
       "...                                                            ...   \n",
       "ff0feea3121816d8a9918cd346d2ab7d                               NaN   \n",
       "ffb17239ca39724cfadc2b50d510f10d                               NaN   \n",
       "ffbc1b5517c488c7959e231ff9a0a787                               NaN   \n",
       "ffe51ba924ffabbb6e1ec2c92e582851                               NaN   \n",
       "fff675a0d5924b9162b4a1bf410466cd                               NaN   \n",
       "\n",
       "product_id                        ff185e3474ddf11f1c87316de80f24b7  \\\n",
       "customer_id                                                          \n",
       "000419c5494106c306a97b5635748086                               NaN   \n",
       "00050bf6e01e69d5c0fd612f1bcfb69c                               NaN   \n",
       "0036875772a8eeb391b8cd7226283fdd                               NaN   \n",
       "005092c23e81812fbbe11fc6cf7e5316                               NaN   \n",
       "00b196cc59531c4dbba23e94fff01d6c                               NaN   \n",
       "...                                                            ...   \n",
       "ff0feea3121816d8a9918cd346d2ab7d                               NaN   \n",
       "ffb17239ca39724cfadc2b50d510f10d                               NaN   \n",
       "ffbc1b5517c488c7959e231ff9a0a787                               NaN   \n",
       "ffe51ba924ffabbb6e1ec2c92e582851                               NaN   \n",
       "fff675a0d5924b9162b4a1bf410466cd                               NaN   \n",
       "\n",
       "product_id                        ff8bd09f659b88af06fdfea61a8b7b45  \\\n",
       "customer_id                                                          \n",
       "000419c5494106c306a97b5635748086                               NaN   \n",
       "00050bf6e01e69d5c0fd612f1bcfb69c                               NaN   \n",
       "0036875772a8eeb391b8cd7226283fdd                               NaN   \n",
       "005092c23e81812fbbe11fc6cf7e5316                               NaN   \n",
       "00b196cc59531c4dbba23e94fff01d6c                               NaN   \n",
       "...                                                            ...   \n",
       "ff0feea3121816d8a9918cd346d2ab7d                               NaN   \n",
       "ffb17239ca39724cfadc2b50d510f10d                               NaN   \n",
       "ffbc1b5517c488c7959e231ff9a0a787                               NaN   \n",
       "ffe51ba924ffabbb6e1ec2c92e582851                               NaN   \n",
       "fff675a0d5924b9162b4a1bf410466cd                               NaN   \n",
       "\n",
       "product_id                        ff9032482857269e8683f0c2f8ba4709  \\\n",
       "customer_id                                                          \n",
       "000419c5494106c306a97b5635748086                               NaN   \n",
       "00050bf6e01e69d5c0fd612f1bcfb69c                               NaN   \n",
       "0036875772a8eeb391b8cd7226283fdd                               NaN   \n",
       "005092c23e81812fbbe11fc6cf7e5316                               NaN   \n",
       "00b196cc59531c4dbba23e94fff01d6c                               NaN   \n",
       "...                                                            ...   \n",
       "ff0feea3121816d8a9918cd346d2ab7d                               NaN   \n",
       "ffb17239ca39724cfadc2b50d510f10d                               NaN   \n",
       "ffbc1b5517c488c7959e231ff9a0a787                               NaN   \n",
       "ffe51ba924ffabbb6e1ec2c92e582851                               NaN   \n",
       "fff675a0d5924b9162b4a1bf410466cd                               NaN   \n",
       "\n",
       "product_id                        ffd259a48b9b073c942884d0f3659566  \\\n",
       "customer_id                                                          \n",
       "000419c5494106c306a97b5635748086                               NaN   \n",
       "00050bf6e01e69d5c0fd612f1bcfb69c                               NaN   \n",
       "0036875772a8eeb391b8cd7226283fdd                               NaN   \n",
       "005092c23e81812fbbe11fc6cf7e5316                               NaN   \n",
       "00b196cc59531c4dbba23e94fff01d6c                               NaN   \n",
       "...                                                            ...   \n",
       "ff0feea3121816d8a9918cd346d2ab7d                               NaN   \n",
       "ffb17239ca39724cfadc2b50d510f10d                               NaN   \n",
       "ffbc1b5517c488c7959e231ff9a0a787                               NaN   \n",
       "ffe51ba924ffabbb6e1ec2c92e582851                               NaN   \n",
       "fff675a0d5924b9162b4a1bf410466cd                               NaN   \n",
       "\n",
       "product_id                        ffd4bf4306745865e5692f69bd237893  \\\n",
       "customer_id                                                          \n",
       "000419c5494106c306a97b5635748086                               NaN   \n",
       "00050bf6e01e69d5c0fd612f1bcfb69c                               NaN   \n",
       "0036875772a8eeb391b8cd7226283fdd                               NaN   \n",
       "005092c23e81812fbbe11fc6cf7e5316                               NaN   \n",
       "00b196cc59531c4dbba23e94fff01d6c                               NaN   \n",
       "...                                                            ...   \n",
       "ff0feea3121816d8a9918cd346d2ab7d                               NaN   \n",
       "ffb17239ca39724cfadc2b50d510f10d                               NaN   \n",
       "ffbc1b5517c488c7959e231ff9a0a787                               NaN   \n",
       "ffe51ba924ffabbb6e1ec2c92e582851                               NaN   \n",
       "fff675a0d5924b9162b4a1bf410466cd                               NaN   \n",
       "\n",
       "product_id                        fff9553ac224cec9d15d49f5a263411f  \n",
       "customer_id                                                         \n",
       "000419c5494106c306a97b5635748086                               NaN  \n",
       "00050bf6e01e69d5c0fd612f1bcfb69c                               NaN  \n",
       "0036875772a8eeb391b8cd7226283fdd                               NaN  \n",
       "005092c23e81812fbbe11fc6cf7e5316                               NaN  \n",
       "00b196cc59531c4dbba23e94fff01d6c                               NaN  \n",
       "...                                                            ...  \n",
       "ff0feea3121816d8a9918cd346d2ab7d                               NaN  \n",
       "ffb17239ca39724cfadc2b50d510f10d                               NaN  \n",
       "ffbc1b5517c488c7959e231ff9a0a787                               NaN  \n",
       "ffe51ba924ffabbb6e1ec2c92e582851                               NaN  \n",
       "fff675a0d5924b9162b4a1bf410466cd                               NaN  \n",
       "\n",
       "[2343 rows x 1189 columns]"
      ]
     },
     "execution_count": 31,
     "metadata": {},
     "output_type": "execute_result"
    }
   ],
   "source": [
    "fashion_matrix"
   ]
  },
  {
   "cell_type": "code",
   "execution_count": null,
   "id": "blocked-correspondence",
   "metadata": {},
   "outputs": [],
   "source": [
    "electronic_cat = ['tablets_impressao_imagem', 'cds_dvds_musicais', 'pcs', 'musica', 'cine_foto', 'telefonia_fixa', 'eletroportateis']"
   ]
  },
  {
   "cell_type": "code",
   "execution_count": 32,
   "id": "higher-discovery",
   "metadata": {},
   "outputs": [
    {
     "ename": "ValueError",
     "evalue": "Input contains NaN, infinity or a value too large for dtype('float64').",
     "output_type": "error",
     "traceback": [
      "\u001b[0;31m---------------------------------------------------------------------------\u001b[0m",
      "\u001b[0;31mValueError\u001b[0m                                Traceback (most recent call last)",
      "\u001b[0;32m<ipython-input-32-b9b95bd5f385>\u001b[0m in \u001b[0;36m<module>\u001b[0;34m\u001b[0m\n\u001b[1;32m      1\u001b[0m \u001b[0;32mfrom\u001b[0m \u001b[0msklearn\u001b[0m\u001b[0;34m.\u001b[0m\u001b[0mneighbors\u001b[0m \u001b[0;32mimport\u001b[0m \u001b[0mNearestNeighbors\u001b[0m\u001b[0;34m\u001b[0m\u001b[0;34m\u001b[0m\u001b[0m\n\u001b[1;32m      2\u001b[0m \u001b[0mknn\u001b[0m \u001b[0;34m=\u001b[0m \u001b[0mNearestNeighbors\u001b[0m\u001b[0;34m(\u001b[0m\u001b[0mmetric\u001b[0m\u001b[0;34m=\u001b[0m\u001b[0;34m'cosine'\u001b[0m\u001b[0;34m,\u001b[0m \u001b[0malgorithm\u001b[0m\u001b[0;34m=\u001b[0m\u001b[0;34m'brute'\u001b[0m\u001b[0;34m)\u001b[0m\u001b[0;34m\u001b[0m\u001b[0;34m\u001b[0m\u001b[0m\n\u001b[0;32m----> 3\u001b[0;31m \u001b[0mknn\u001b[0m\u001b[0;34m.\u001b[0m\u001b[0mfit\u001b[0m\u001b[0;34m(\u001b[0m\u001b[0mfashion_matrix\u001b[0m\u001b[0;34m.\u001b[0m\u001b[0mvalues\u001b[0m\u001b[0;34m)\u001b[0m\u001b[0;34m\u001b[0m\u001b[0;34m\u001b[0m\u001b[0m\n\u001b[0m\u001b[1;32m      4\u001b[0m \u001b[0mdistances\u001b[0m\u001b[0;34m,\u001b[0m \u001b[0mindices\u001b[0m \u001b[0;34m=\u001b[0m \u001b[0mknn\u001b[0m\u001b[0;34m.\u001b[0m\u001b[0mkneighbors\u001b[0m\u001b[0;34m(\u001b[0m\u001b[0mfashion_matrix\u001b[0m\u001b[0;34m.\u001b[0m\u001b[0mvalues\u001b[0m\u001b[0;34m,\u001b[0m \u001b[0mn_neighbors\u001b[0m\u001b[0;34m=\u001b[0m\u001b[0;36m3\u001b[0m\u001b[0;34m)\u001b[0m\u001b[0;34m\u001b[0m\u001b[0;34m\u001b[0m\u001b[0m\n",
      "\u001b[0;32m~/.pyenv/versions/3.8.6/envs/lewagon/lib/python3.8/site-packages/sklearn/neighbors/_base.py\u001b[0m in \u001b[0;36mfit\u001b[0;34m(self, X, y)\u001b[0m\n\u001b[1;32m   1166\u001b[0m             \u001b[0;32mor\u001b[0m \u001b[0;34m[\u001b[0m\u001b[0mn_samples\u001b[0m\u001b[0;34m,\u001b[0m \u001b[0mn_samples\u001b[0m\u001b[0;34m]\u001b[0m \u001b[0;32mif\u001b[0m \u001b[0mmetric\u001b[0m\u001b[0;34m=\u001b[0m\u001b[0;34m'precomputed'\u001b[0m\u001b[0;34m.\u001b[0m\u001b[0;34m\u001b[0m\u001b[0;34m\u001b[0m\u001b[0m\n\u001b[1;32m   1167\u001b[0m         \"\"\"\n\u001b[0;32m-> 1168\u001b[0;31m         \u001b[0;32mreturn\u001b[0m \u001b[0mself\u001b[0m\u001b[0;34m.\u001b[0m\u001b[0m_fit\u001b[0m\u001b[0;34m(\u001b[0m\u001b[0mX\u001b[0m\u001b[0;34m)\u001b[0m\u001b[0;34m\u001b[0m\u001b[0;34m\u001b[0m\u001b[0m\n\u001b[0m",
      "\u001b[0;32m~/.pyenv/versions/3.8.6/envs/lewagon/lib/python3.8/site-packages/sklearn/neighbors/_base.py\u001b[0m in \u001b[0;36m_fit\u001b[0;34m(self, X)\u001b[0m\n\u001b[1;32m    397\u001b[0m             \u001b[0mX\u001b[0m \u001b[0;34m=\u001b[0m \u001b[0m_check_precomputed\u001b[0m\u001b[0;34m(\u001b[0m\u001b[0mX\u001b[0m\u001b[0;34m)\u001b[0m\u001b[0;34m\u001b[0m\u001b[0;34m\u001b[0m\u001b[0m\n\u001b[1;32m    398\u001b[0m         \u001b[0;32melse\u001b[0m\u001b[0;34m:\u001b[0m\u001b[0;34m\u001b[0m\u001b[0;34m\u001b[0m\u001b[0m\n\u001b[0;32m--> 399\u001b[0;31m             \u001b[0mX\u001b[0m \u001b[0;34m=\u001b[0m \u001b[0mcheck_array\u001b[0m\u001b[0;34m(\u001b[0m\u001b[0mX\u001b[0m\u001b[0;34m,\u001b[0m \u001b[0maccept_sparse\u001b[0m\u001b[0;34m=\u001b[0m\u001b[0;34m'csr'\u001b[0m\u001b[0;34m)\u001b[0m\u001b[0;34m\u001b[0m\u001b[0;34m\u001b[0m\u001b[0m\n\u001b[0m\u001b[1;32m    400\u001b[0m \u001b[0;34m\u001b[0m\u001b[0m\n\u001b[1;32m    401\u001b[0m         \u001b[0mn_samples\u001b[0m \u001b[0;34m=\u001b[0m \u001b[0mX\u001b[0m\u001b[0;34m.\u001b[0m\u001b[0mshape\u001b[0m\u001b[0;34m[\u001b[0m\u001b[0;36m0\u001b[0m\u001b[0;34m]\u001b[0m\u001b[0;34m\u001b[0m\u001b[0;34m\u001b[0m\u001b[0m\n",
      "\u001b[0;32m~/.pyenv/versions/3.8.6/envs/lewagon/lib/python3.8/site-packages/sklearn/utils/validation.py\u001b[0m in \u001b[0;36mcheck_array\u001b[0;34m(array, accept_sparse, accept_large_sparse, dtype, order, copy, force_all_finite, ensure_2d, allow_nd, ensure_min_samples, ensure_min_features, warn_on_dtype, estimator)\u001b[0m\n\u001b[1;32m    559\u001b[0m \u001b[0;34m\u001b[0m\u001b[0m\n\u001b[1;32m    560\u001b[0m         \u001b[0;32mif\u001b[0m \u001b[0mforce_all_finite\u001b[0m\u001b[0;34m:\u001b[0m\u001b[0;34m\u001b[0m\u001b[0;34m\u001b[0m\u001b[0m\n\u001b[0;32m--> 561\u001b[0;31m             _assert_all_finite(array,\n\u001b[0m\u001b[1;32m    562\u001b[0m                                allow_nan=force_all_finite == 'allow-nan')\n\u001b[1;32m    563\u001b[0m \u001b[0;34m\u001b[0m\u001b[0m\n",
      "\u001b[0;32m~/.pyenv/versions/3.8.6/envs/lewagon/lib/python3.8/site-packages/sklearn/utils/validation.py\u001b[0m in \u001b[0;36m_assert_all_finite\u001b[0;34m(X, allow_nan, msg_dtype)\u001b[0m\n\u001b[1;32m     55\u001b[0m                 not allow_nan and not np.isfinite(X).all()):\n\u001b[1;32m     56\u001b[0m             \u001b[0mtype_err\u001b[0m \u001b[0;34m=\u001b[0m \u001b[0;34m'infinity'\u001b[0m \u001b[0;32mif\u001b[0m \u001b[0mallow_nan\u001b[0m \u001b[0;32melse\u001b[0m \u001b[0;34m'NaN, infinity'\u001b[0m\u001b[0;34m\u001b[0m\u001b[0;34m\u001b[0m\u001b[0m\n\u001b[0;32m---> 57\u001b[0;31m             raise ValueError(\n\u001b[0m\u001b[1;32m     58\u001b[0m                     \u001b[0mmsg_err\u001b[0m\u001b[0;34m.\u001b[0m\u001b[0mformat\u001b[0m\u001b[0;34m\u001b[0m\u001b[0;34m\u001b[0m\u001b[0m\n\u001b[1;32m     59\u001b[0m                     (type_err,\n",
      "\u001b[0;31mValueError\u001b[0m: Input contains NaN, infinity or a value too large for dtype('float64')."
     ]
    }
   ],
   "source": [
    "from sklearn.neighbors import NearestNeighbors\n",
    "knn = NearestNeighbors(metric='cosine', algorithm='brute')\n",
    "knn.fit(fashion_matrix.values)\n",
    "distances, indices = knn.kneighbors(fashion_matrix.values, n_neighbors=3)"
   ]
  },
  {
   "cell_type": "code",
   "execution_count": 37,
   "id": "known-prague",
   "metadata": {},
   "outputs": [
    {
     "data": {
      "text/plain": [
       "Index(['002159fe700ed3521f46cfcf6e941c76', '005c6b24cc96dca3e2c01e824401030e',\n",
       "       '0067f97995b0c3a86739734dc87ee6b6', '00faa46f36261af8bbf3a4d37fa4841b',\n",
       "       '0142fd5bd2e0923cf2dbc73d471dda34', '015f06d7b83e5a6f7d1765fb5d8bdfa6',\n",
       "       '0192191cc1bc83262d6667c54c2e048f', '01f76c07f91a533acd46cc6ab989be23',\n",
       "       '0257013d9462b3b6e9892bdd10ebe14d', '027e1564c58eb02f39089b2b1f28d5e0',\n",
       "       ...\n",
       "       'fde4e97b75bd817d8c4aef8de39ed4d9', 'fe2f0ff75805728378c6a8fdc5be7724',\n",
       "       'fe6614ba400caca2d8d310902d5ecdd5', 'fe7e33eaa09b5a4a3d3aa477280db875',\n",
       "       'ff185e3474ddf11f1c87316de80f24b7', 'ff8bd09f659b88af06fdfea61a8b7b45',\n",
       "       'ff9032482857269e8683f0c2f8ba4709', 'ffd259a48b9b073c942884d0f3659566',\n",
       "       'ffd4bf4306745865e5692f69bd237893', 'fff9553ac224cec9d15d49f5a263411f'],\n",
       "      dtype='object', name='product_id', length=1189)"
      ]
     },
     "execution_count": 37,
     "metadata": {},
     "output_type": "execute_result"
    }
   ],
   "source": [
    "fashion_matrix.columns"
   ]
  },
  {
   "cell_type": "code",
   "execution_count": 41,
   "id": "stable-paintball",
   "metadata": {},
   "outputs": [
    {
     "data": {
      "text/plain": [
       "array([nan,  4.,  3.,  5.])"
      ]
     },
     "execution_count": 41,
     "metadata": {},
     "output_type": "execute_result"
    }
   ],
   "source": [
    "fashion_matrix['ffd4bf4306745865e5692f69bd237893'].unique()"
   ]
  },
  {
   "cell_type": "code",
   "execution_count": null,
   "id": "going-producer",
   "metadata": {},
   "outputs": [],
   "source": []
  }
 ],
 "metadata": {
  "kernelspec": {
   "display_name": "Python 3",
   "language": "python",
   "name": "python3"
  },
  "language_info": {
   "codemirror_mode": {
    "name": "ipython",
    "version": 3
   },
   "file_extension": ".py",
   "mimetype": "text/x-python",
   "name": "python",
   "nbconvert_exporter": "python",
   "pygments_lexer": "ipython3",
   "version": "3.8.6"
  },
  "toc": {
   "base_numbering": 1,
   "nav_menu": {},
   "number_sections": true,
   "sideBar": true,
   "skip_h1_title": false,
   "title_cell": "Table of Contents",
   "title_sidebar": "Contents",
   "toc_cell": false,
   "toc_position": {},
   "toc_section_display": true,
   "toc_window_display": false
  }
 },
 "nbformat": 4,
 "nbformat_minor": 5
}
